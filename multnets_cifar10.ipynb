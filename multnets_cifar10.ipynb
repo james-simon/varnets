{
  "nbformat": 4,
  "nbformat_minor": 0,
  "metadata": {
    "accelerator": "GPU",
    "colab": {
      "name": "multnets_cifar10",
      "provenance": [],
      "collapsed_sections": [],
      "authorship_tag": "ABX9TyNXUmDgWnHLcirRWQwj9wxg",
      "include_colab_link": true
    },
    "kernelspec": {
      "display_name": "Python 3",
      "name": "python3"
    },
    "widgets": {
      "application/vnd.jupyter.widget-state+json": {
        "e3479a25caa343c080f0e694d1f9dbd0": {
          "model_module": "@jupyter-widgets/controls",
          "model_name": "HBoxModel",
          "state": {
            "_view_name": "HBoxView",
            "_dom_classes": [],
            "_model_name": "HBoxModel",
            "_view_module": "@jupyter-widgets/controls",
            "_model_module_version": "1.5.0",
            "_view_count": null,
            "_view_module_version": "1.5.0",
            "box_style": "",
            "layout": "IPY_MODEL_0e27c18a3174489d814f8e3259a5d4b9",
            "_model_module": "@jupyter-widgets/controls",
            "children": [
              "IPY_MODEL_f98f5647315c4673981d442e7f7f8b18",
              "IPY_MODEL_e63ba39dbd03421baee85efc6a94fd4f"
            ]
          }
        },
        "0e27c18a3174489d814f8e3259a5d4b9": {
          "model_module": "@jupyter-widgets/base",
          "model_name": "LayoutModel",
          "state": {
            "_view_name": "LayoutView",
            "grid_template_rows": null,
            "right": null,
            "justify_content": null,
            "_view_module": "@jupyter-widgets/base",
            "overflow": null,
            "_model_module_version": "1.2.0",
            "_view_count": null,
            "flex_flow": null,
            "width": null,
            "min_width": null,
            "border": null,
            "align_items": null,
            "bottom": null,
            "_model_module": "@jupyter-widgets/base",
            "top": null,
            "grid_column": null,
            "overflow_y": null,
            "overflow_x": null,
            "grid_auto_flow": null,
            "grid_area": null,
            "grid_template_columns": null,
            "flex": null,
            "_model_name": "LayoutModel",
            "justify_items": null,
            "grid_row": null,
            "max_height": null,
            "align_content": null,
            "visibility": null,
            "align_self": null,
            "height": null,
            "min_height": null,
            "padding": null,
            "grid_auto_rows": null,
            "grid_gap": null,
            "max_width": null,
            "order": null,
            "_view_module_version": "1.2.0",
            "grid_template_areas": null,
            "object_position": null,
            "object_fit": null,
            "grid_auto_columns": null,
            "margin": null,
            "display": null,
            "left": null
          }
        },
        "f98f5647315c4673981d442e7f7f8b18": {
          "model_module": "@jupyter-widgets/controls",
          "model_name": "FloatProgressModel",
          "state": {
            "_view_name": "ProgressView",
            "style": "IPY_MODEL_199586a1ab444575bc2f1c693d8e5b98",
            "_dom_classes": [],
            "description": "",
            "_model_name": "FloatProgressModel",
            "bar_style": "info",
            "max": 1,
            "_view_module": "@jupyter-widgets/controls",
            "_model_module_version": "1.5.0",
            "value": 1,
            "_view_count": null,
            "_view_module_version": "1.5.0",
            "orientation": "horizontal",
            "min": 0,
            "description_tooltip": null,
            "_model_module": "@jupyter-widgets/controls",
            "layout": "IPY_MODEL_9da4e12ee45246d28a06b0b5e733bb81"
          }
        },
        "e63ba39dbd03421baee85efc6a94fd4f": {
          "model_module": "@jupyter-widgets/controls",
          "model_name": "HTMLModel",
          "state": {
            "_view_name": "HTMLView",
            "style": "IPY_MODEL_422618311d64405ebd3f3a63ea8d8c63",
            "_dom_classes": [],
            "description": "",
            "_model_name": "HTMLModel",
            "placeholder": "​",
            "_view_module": "@jupyter-widgets/controls",
            "_model_module_version": "1.5.0",
            "value": " 170500096/? [00:20&lt;00:00, 93389129.67it/s]",
            "_view_count": null,
            "_view_module_version": "1.5.0",
            "description_tooltip": null,
            "_model_module": "@jupyter-widgets/controls",
            "layout": "IPY_MODEL_9642a23ab08949f8a5d370045850d066"
          }
        },
        "199586a1ab444575bc2f1c693d8e5b98": {
          "model_module": "@jupyter-widgets/controls",
          "model_name": "ProgressStyleModel",
          "state": {
            "_view_name": "StyleView",
            "_model_name": "ProgressStyleModel",
            "description_width": "initial",
            "_view_module": "@jupyter-widgets/base",
            "_model_module_version": "1.5.0",
            "_view_count": null,
            "_view_module_version": "1.2.0",
            "bar_color": null,
            "_model_module": "@jupyter-widgets/controls"
          }
        },
        "9da4e12ee45246d28a06b0b5e733bb81": {
          "model_module": "@jupyter-widgets/base",
          "model_name": "LayoutModel",
          "state": {
            "_view_name": "LayoutView",
            "grid_template_rows": null,
            "right": null,
            "justify_content": null,
            "_view_module": "@jupyter-widgets/base",
            "overflow": null,
            "_model_module_version": "1.2.0",
            "_view_count": null,
            "flex_flow": null,
            "width": null,
            "min_width": null,
            "border": null,
            "align_items": null,
            "bottom": null,
            "_model_module": "@jupyter-widgets/base",
            "top": null,
            "grid_column": null,
            "overflow_y": null,
            "overflow_x": null,
            "grid_auto_flow": null,
            "grid_area": null,
            "grid_template_columns": null,
            "flex": null,
            "_model_name": "LayoutModel",
            "justify_items": null,
            "grid_row": null,
            "max_height": null,
            "align_content": null,
            "visibility": null,
            "align_self": null,
            "height": null,
            "min_height": null,
            "padding": null,
            "grid_auto_rows": null,
            "grid_gap": null,
            "max_width": null,
            "order": null,
            "_view_module_version": "1.2.0",
            "grid_template_areas": null,
            "object_position": null,
            "object_fit": null,
            "grid_auto_columns": null,
            "margin": null,
            "display": null,
            "left": null
          }
        },
        "422618311d64405ebd3f3a63ea8d8c63": {
          "model_module": "@jupyter-widgets/controls",
          "model_name": "DescriptionStyleModel",
          "state": {
            "_view_name": "StyleView",
            "_model_name": "DescriptionStyleModel",
            "description_width": "",
            "_view_module": "@jupyter-widgets/base",
            "_model_module_version": "1.5.0",
            "_view_count": null,
            "_view_module_version": "1.2.0",
            "_model_module": "@jupyter-widgets/controls"
          }
        },
        "9642a23ab08949f8a5d370045850d066": {
          "model_module": "@jupyter-widgets/base",
          "model_name": "LayoutModel",
          "state": {
            "_view_name": "LayoutView",
            "grid_template_rows": null,
            "right": null,
            "justify_content": null,
            "_view_module": "@jupyter-widgets/base",
            "overflow": null,
            "_model_module_version": "1.2.0",
            "_view_count": null,
            "flex_flow": null,
            "width": null,
            "min_width": null,
            "border": null,
            "align_items": null,
            "bottom": null,
            "_model_module": "@jupyter-widgets/base",
            "top": null,
            "grid_column": null,
            "overflow_y": null,
            "overflow_x": null,
            "grid_auto_flow": null,
            "grid_area": null,
            "grid_template_columns": null,
            "flex": null,
            "_model_name": "LayoutModel",
            "justify_items": null,
            "grid_row": null,
            "max_height": null,
            "align_content": null,
            "visibility": null,
            "align_self": null,
            "height": null,
            "min_height": null,
            "padding": null,
            "grid_auto_rows": null,
            "grid_gap": null,
            "max_width": null,
            "order": null,
            "_view_module_version": "1.2.0",
            "grid_template_areas": null,
            "object_position": null,
            "object_fit": null,
            "grid_auto_columns": null,
            "margin": null,
            "display": null,
            "left": null
          }
        }
      }
    }
  },
  "cells": [
    {
      "cell_type": "markdown",
      "metadata": {
        "id": "view-in-github",
        "colab_type": "text"
      },
      "source": [
        "<a href=\"https://colab.research.google.com/github/james-simon/varnets/blob/master/multnets_cifar10.ipynb\" target=\"_parent\"><img src=\"https://colab.research.google.com/assets/colab-badge.svg\" alt=\"Open In Colab\"/></a>"
      ]
    },
    {
      "cell_type": "markdown",
      "metadata": {
        "id": "a_kRVlzm2w7a"
      },
      "source": [
        "## Imports and constants"
      ]
    },
    {
      "cell_type": "code",
      "metadata": {
        "id": "OE-D3oGC1_S9",
        "colab": {
          "base_uri": "https://localhost:8080/"
        },
        "outputId": "8af48853-78a2-4f1f-e566-dc70d2851de4"
      },
      "source": [
        "import os\n",
        "import sys\n",
        "import time\n",
        "import math\n",
        "import inspect\n",
        "from datetime import datetime\n",
        "\n",
        "import numpy as np\n",
        "\n",
        "import torch\n",
        "import torchvision\n",
        "from torchvision import datasets, transforms\n",
        "import torch\n",
        "import torch.nn as nn\n",
        "import torch.nn.functional as F\n",
        "from torch.utils.data import DataLoader\n",
        "from torch.nn.modules.utils import _single, _pair, _triple, _reverse_repeat_tuple\n",
        "\n",
        "import matplotlib.pyplot as plt\n",
        "\n",
        "# check device\n",
        "DEVICE = 'cuda' if torch.cuda.is_available() else 'cpu'\n",
        "\n",
        "try:\n",
        "    latch\n",
        "except NameError:\n",
        "  old_linear_def = F.linear\n",
        "  old_conv_def = F.conv2d\n",
        "  print('latched')\n",
        "latch = True"
      ],
      "execution_count": null,
      "outputs": [
        {
          "output_type": "stream",
          "text": [
            "latched\n"
          ],
          "name": "stdout"
        }
      ]
    },
    {
      "cell_type": "code",
      "metadata": {
        "id": "T_hWavyN2wlp"
      },
      "source": [
        "RANDOM_SEED = 42\n",
        "LEARNING_RATE = 0.00001\n",
        "BATCH_SIZE = 128\n",
        "N_EPOCHS = 15\n",
        "N_WORKERS = 4\n",
        "\n",
        "IMG_SIZE = 32\n",
        "N_CLASSES = 10\n",
        "\n",
        "dataset_name = \"CIFAR10\"\n",
        "data_path = \"\"\n",
        "\n",
        "architecture = \"VGG\""
      ],
      "execution_count": null,
      "outputs": []
    },
    {
      "cell_type": "code",
      "metadata": {
        "id": "2wW4FOiYUyhC"
      },
      "source": [
        "def count_parameters(model):\n",
        "    return sum(p.numel() for p in model.parameters() if p.requires_grad)\n",
        "\n",
        "def all_parameters(model):\n",
        "  return torch.cat([p for p in model.parameters() if p.requires_grad])\n",
        "  \n",
        "def identity(x):\n",
        "  return(x)\n",
        "\n",
        "include_scale_factor = False\n",
        "\n",
        "pre_weight_nonlinearity = identity\n",
        "post_weight_nonlinearity = identity\n",
        "combination_function = lambda x,y: x*y\n",
        "post_sum_nonlinearity = identity\n",
        "neuron_nonlinearity = nn.Identity\n",
        "\n",
        "net_start_nonlinearity = identity\n",
        "net_end_nonlinearity = identity"
      ],
      "execution_count": null,
      "outputs": []
    },
    {
      "cell_type": "markdown",
      "metadata": {
        "id": "6BaOjzIs26_I"
      },
      "source": [
        "## Dataset setup"
      ]
    },
    {
      "cell_type": "code",
      "metadata": {
        "id": "sN6jEBaF26cX",
        "colab": {
          "base_uri": "https://localhost:8080/",
          "height": 101,
          "referenced_widgets": [
            "e3479a25caa343c080f0e694d1f9dbd0",
            "0e27c18a3174489d814f8e3259a5d4b9",
            "f98f5647315c4673981d442e7f7f8b18",
            "e63ba39dbd03421baee85efc6a94fd4f",
            "199586a1ab444575bc2f1c693d8e5b98",
            "9da4e12ee45246d28a06b0b5e733bb81",
            "422618311d64405ebd3f3a63ea8d8c63",
            "9642a23ab08949f8a5d370045850d066"
          ]
        },
        "outputId": "b0d7c879-0b8e-4af2-8b87-7a8bfda26307"
      },
      "source": [
        "transform_set_train = None\n",
        "transform_set_test = None\n",
        "\n",
        "if dataset_name == \"MNIST\":\n",
        "  transform_set_train = transforms.Compose([transforms.Resize((IMG_SIZE, IMG_SIZE)),\n",
        "                                 transforms.ToTensor()])\n",
        "  transform_set_test = transforms.Compose([transforms.Resize((IMG_SIZE, IMG_SIZE)),\n",
        "                                 transforms.ToTensor()])\n",
        "if dataset_name == \"CIFAR10\":\n",
        "  if architecture == \"ALEXNET\":\n",
        "    transform_set_train = transforms.Compose([transforms.Scale((224, 224)),\n",
        "                                    transforms.RandomHorizontalFlip(),\n",
        "                                    transforms.RandomCrop(32, padding=4),\n",
        "                                    transforms.ToTensor(),\n",
        "                                    transforms.Normalize((0.4914, 0.4822, 0.4465), \n",
        "                                                          (0.2023, 0.1994, 0.2010))])\n",
        "    transform_set_test = transforms.Compose([transforms.Scale((224, 224)),\n",
        "                                   transforms.ToTensor(),\n",
        "                                   transforms.Normalize((0.4914, 0.4822, 0.4465), \n",
        "                                                        (0.2023, 0.1994, 0.2010))])\n",
        "  else:\n",
        "    transform_set_train = transforms.Compose([\n",
        "                    transforms.RandomHorizontalFlip(),\n",
        "                    transforms.RandomCrop(32, padding=4),\n",
        "                    transforms.ToTensor(),\n",
        "                    transforms.Normalize(mean=[0.485, 0.456, 0.406], std=[0.229, 0.224, 0.225])\n",
        "                ])\n",
        "    transform_set_test = transforms.Compose([\n",
        "                    transforms.ToTensor(),\n",
        "                    transforms.Normalize(mean=[0.485, 0.456, 0.406], std=[0.229, 0.224, 0.225])\n",
        "                ])\n",
        "\n",
        "ds = getattr(torchvision.datasets, dataset_name)\n",
        "dataset_path = os.path.join(data_path, dataset_name.lower())\n",
        "\n",
        "train_set = ds(dataset_path, train=True, download=True, transform=transform_set_train)\n",
        "test_set = ds(dataset_path, train=False, download=True, transform=transform_set_test)\n",
        "\n",
        "train_loader = DataLoader(dataset=train_set, \n",
        "                          batch_size=BATCH_SIZE, \n",
        "                          shuffle=True,\n",
        "                          num_workers=N_WORKERS)\n",
        "test_loader = DataLoader(dataset=test_set, \n",
        "                          batch_size=BATCH_SIZE, \n",
        "                          shuffle=False,\n",
        "                          num_workers=N_WORKERS)\n",
        "\n",
        "def sample_loader(loader, n_samples=1):\n",
        "  for x,_ in loader:\n",
        "    return(x[0:min(n_samples, x.size()[0])].to(DEVICE))"
      ],
      "execution_count": null,
      "outputs": [
        {
          "output_type": "stream",
          "text": [
            "Downloading https://www.cs.toronto.edu/~kriz/cifar-10-python.tar.gz to cifar10/cifar-10-python.tar.gz\n"
          ],
          "name": "stdout"
        },
        {
          "output_type": "display_data",
          "data": {
            "application/vnd.jupyter.widget-view+json": {
              "model_id": "e3479a25caa343c080f0e694d1f9dbd0",
              "version_minor": 0,
              "version_major": 2
            },
            "text/plain": [
              "HBox(children=(FloatProgress(value=1.0, bar_style='info', max=1.0), HTML(value='')))"
            ]
          },
          "metadata": {
            "tags": []
          }
        },
        {
          "output_type": "stream",
          "text": [
            "Extracting cifar10/cifar-10-python.tar.gz to cifar10\n",
            "Files already downloaded and verified\n"
          ],
          "name": "stdout"
        }
      ]
    },
    {
      "cell_type": "markdown",
      "metadata": {
        "id": "8alR-7I5YIXo"
      },
      "source": [
        "## Train and test methods"
      ]
    },
    {
      "cell_type": "code",
      "metadata": {
        "id": "4OvikG6QYHmF"
      },
      "source": [
        "def train_epoch(train_loader, model, criterion, optimizer, device):\n",
        "\n",
        "    model.train()\n",
        "    running_loss = 0\n",
        "    running_acc = 0\n",
        "    \n",
        "    for batch_i, (X, y_true) in enumerate(train_loader):\n",
        "      optimizer.zero_grad()\n",
        "\n",
        "      X = X.to(device)\n",
        "      y_true = y_true.to(device)\n",
        "\n",
        "      y_hat = model(X)\n",
        "\n",
        "      loss = criterion(y_hat, y_true)\n",
        "      loss.backward()\n",
        "      optimizer.step()\n",
        "\n",
        "      batch_loss = loss.item()*X.size(0)\n",
        "      running_loss += batch_loss\n",
        "\n",
        "      _, predicted_labels = torch.max(y_hat, 1)\n",
        "      batch_acc = (predicted_labels == y_true).sum().item()\n",
        "      running_acc += batch_acc\n",
        "      \n",
        "      batch_i += 1\n",
        "    \n",
        "    epoch_loss = running_loss / len(train_loader.dataset)\n",
        "    epoch_acc = running_acc / len(train_loader.dataset)\n",
        "    return model, optimizer, epoch_loss, epoch_acc\n",
        "\n",
        "def test(test_loader, model, criterion, device):\n",
        "\n",
        "  model.eval()\n",
        "  running_loss = 0\n",
        "  running_acc = 0\n",
        "  \n",
        "  for X, y_true in test_loader:\n",
        "  \n",
        "      X = X.to(device)\n",
        "      y_true = y_true.to(device)\n",
        "\n",
        "      y_hat = model(X) \n",
        "      loss = criterion(y_hat, y_true) \n",
        "      running_loss += loss.item() * X.size(0)\n",
        "\n",
        "      _, predicted_labels = torch.max(y_hat, 1)\n",
        "      batch_acc = (predicted_labels == y_true).sum().item()\n",
        "      running_acc += batch_acc\n",
        "\n",
        "  epoch_loss = running_loss / len(test_loader.dataset)\n",
        "  epoch_acc = running_acc / len(test_loader.dataset)\n",
        "      \n",
        "  return model, epoch_loss, epoch_acc\n",
        "\n",
        "def training_loop(model, criterion, optimizer, train_loader, test_loader, epochs, device, print_every=1):\n",
        "\n",
        "    # set objects for storing metrics\n",
        "    best_loss = 1e10\n",
        "    train_losses = []\n",
        "    test_losses = []\n",
        "    train_accs = []\n",
        "    test_accs = []\n",
        " \n",
        "    # Train model\n",
        "    for epoch in range(0, epochs):\n",
        "      start_t = time.time()\n",
        "\n",
        "      # trainin'\n",
        "      model, optimizer, train_loss, train_acc = train_epoch(train_loader, model, criterion, optimizer, device)\n",
        "      train_losses.append(train_loss)\n",
        "      train_accs.append(train_acc)\n",
        "\n",
        "      # testin'\n",
        "      with torch.no_grad():\n",
        "          model, test_loss, test_acc = test(test_loader, model, criterion, device)\n",
        "          test_losses.append(test_loss)\n",
        "          test_accs.append(test_acc)\n",
        "\n",
        "      if epoch % print_every == (print_every - 1):\n",
        "\n",
        "          print(f'{time.time()-start_t} --- '\n",
        "                f'Epoch: {epoch}\\t'\n",
        "                f'Train loss: {train_loss:.4f}\\t'\n",
        "                f'test loss: {test_loss:.4f}\\t'\n",
        "                f'Train accuracy: {100 * train_acc:.2f}\\t'\n",
        "                f'test accuracy: {100 * test_acc:.2f}')\n",
        "    \n",
        "    return model, optimizer, (train_accs, train_losses, test_accs, test_losses)"
      ],
      "execution_count": null,
      "outputs": []
    },
    {
      "cell_type": "markdown",
      "metadata": {
        "id": "zkxQ8b9QWypo"
      },
      "source": [
        "## Model definition"
      ]
    },
    {
      "cell_type": "code",
      "metadata": {
        "id": "VXD3pHkQ7Qib"
      },
      "source": [
        "Q = 10**9\n",
        "cache_lin = [None, None, None]\n",
        "cache_mult = [None, None, None]\n",
        "\n",
        "def mult_linear(input, weights, bias=None):\n",
        "  global cache_lin\n",
        "  cache_lin[0] = input\n",
        "  cache_lin[1] = (weights, bias)\n",
        "\n",
        "  if torch.sum(input == 0) > 0:\n",
        "    print('zero found in mult_linear input')\n",
        "    q = 1 + '1'\n",
        "\n",
        "  output = old_linear_def(Q*torch.log(input), weights, bias)\n",
        "  # print('ln (lin)')\n",
        "  if output.size()[1:] != torch.Size([N_CLASSES]):\n",
        "    output = torch.exp((1/Q)*output) + 0\n",
        "  #   print('exp (lin)')\n",
        "  # else:\n",
        "  #   print('END')\n",
        "\n",
        "  if torch.sum(output.isnan()) > 0:\n",
        "    print(\"nan found in mult_linear\")\n",
        "    print(input)\n",
        "    print(output)\n",
        "    q = 1 + '1'\n",
        "\n",
        "  if torch.sum(output.isinf()) > 0:\n",
        "    print(\"inf found in mult_linear\")\n",
        "    # print(input)\n",
        "    # print(output)\n",
        "    q = 1 + '1'\n",
        "\n",
        "  if torch.sum(output == 0) > 0:\n",
        "    print(\"zero found in mult_linear\")\n",
        "    # print(input)\n",
        "    # print(output)\n",
        "    q = 1 + '1'\n",
        "  \n",
        "  cache_lin[2] = output\n",
        "  \n",
        "  return output\n",
        "\n",
        "def mult_conv2d(input, weights, bias=None, stride=(1,1), padding=(0,0), dilation=(1,1), groups=1):\n",
        "  global cache_mult\n",
        "  cache_mult[0] = input\n",
        "  cache_mult[1] = (weights, bias, stride, padding, dilation, groups)\n",
        "\n",
        "  if input.size()[1:] != torch.Size([3,32,32]):\n",
        "    input = Q*torch.log(input)\n",
        "  #   print('ln (conv)')\n",
        "  # else:\n",
        "  #   print('START')\n",
        "  output = torch.exp((1/Q)*old_conv_def(input, weights, bias, stride, padding, dilation, groups)) + 0\n",
        "  # print('exp (conv)')\n",
        "\n",
        "  if torch.sum(output.isnan()) > 0:\n",
        "    print(\"nan found in mult_conv2d\")\n",
        "    # print(input)\n",
        "    # print(output)\n",
        "    q = 1 + '1'\n",
        "  \n",
        "  if torch.sum(output == 0) > 0:\n",
        "    print(\"zero found in mult_conv2d\")\n",
        "    # print(input)\n",
        "    # print(output)\n",
        "    q = 1 + '1'\n",
        "  \n",
        "  cache_mult[2] = output\n",
        "\n",
        "  return output\n",
        "\n",
        "# replace F methods with mult methods\n",
        "# F.linear = old_linear_def\n",
        "# F.conv2d = old_conv_def\n",
        "F.linear = mult_linear\n",
        "F.conv2d = mult_conv2d"
      ],
      "execution_count": null,
      "outputs": []
    },
    {
      "cell_type": "code",
      "metadata": {
        "id": "Bl-uRcMV11YI"
      },
      "source": [
        "## test plan\n",
        "#  for different values of Q, check what the typical highest intermediate value is in mult_conv2d"
      ],
      "execution_count": null,
      "outputs": []
    },
    {
      "cell_type": "code",
      "metadata": {
        "id": "bGtG-DmB5qUA"
      },
      "source": [
        "# input = torch.log(cache_mult[0])\n",
        "# print(input.size())\n",
        "# print(cache_mult[1][0].size())\n",
        "\n",
        "# # print(torch.max(torch.abs(input)))\n",
        "# output = old_conv_def(input, cache_mult[1][0], None, cache_mult[1][2], cache_mult[1][3], cache_mult[1][4], cache_mult[1][5])\n",
        "# print(output.size())\n",
        "\n",
        "# print(torch.max(torch.abs(input)))\n",
        "# print(torch.max(torch.abs(output)))\n",
        "# print(output[0][0][0])\n",
        "# print(torch.std(cache_mult[1][0]))\n",
        "# print(torch.std(input))\n",
        "# print(torch.std(output))"
      ],
      "execution_count": null,
      "outputs": []
    },
    {
      "cell_type": "code",
      "metadata": {
        "id": "n0xt3oUrba5Z"
      },
      "source": [
        "class Nonlinearity(nn.Module):\n",
        "    __constants__ = ['inplace']\n",
        "    inplace: bool\n",
        "\n",
        "    def __init__(self, inplace: bool = False):\n",
        "        super(Nonlinearity, self).__init__()\n",
        "        self.inplace = inplace\n",
        "\n",
        "    def forward(self, input: torch.Tensor) -> torch.Tensor:\n",
        "        # return input\n",
        "        # return F.tanh(input)\n",
        "        return 0 + F.relu(input - 0, inplace=self.inplace)\n",
        "\n",
        "    def extra_repr(self) -> str:\n",
        "        inplace_str = 'inplace=True' if self.inplace else ''\n",
        "        return inplace_str\n",
        "\n",
        "\n",
        "DROPOUT_PROB = 0\n",
        "\n",
        "config = {\n",
        "    16: [[64, 64], [128, 128], [256, 256, 256], [512, 512, 512], [512, 512, 512]],\n",
        "    19: [[64, 64], [128, 128], [256, 256, 256, 256], [512, 512, 512, 512], [512, 512, 512, 512]],\n",
        "}\n",
        "\n",
        "\n",
        "def make_layers(config, batch_norm=False, fix_points=None):\n",
        "    layer_blocks = nn.ModuleList()\n",
        "    activation_blocks = nn.ModuleList()\n",
        "    poolings = nn.ModuleList()\n",
        "\n",
        "    kwargs = dict()\n",
        "    conv = nn.Conv2d\n",
        "    bn = nn.BatchNorm2d\n",
        "    if fix_points is not None:\n",
        "        kwargs['fix_points'] = fix_points\n",
        "        conv = curves.Conv2d\n",
        "        bn = curves.BatchNorm2d\n",
        "\n",
        "    in_channels = 3\n",
        "    for sizes in config:\n",
        "        layer_blocks.append(nn.ModuleList())\n",
        "        activation_blocks.append(nn.ModuleList())\n",
        "        for channels in sizes:\n",
        "            layer_blocks[-1].append(conv(in_channels, channels, kernel_size=3, padding=1, **kwargs))\n",
        "            if batch_norm:\n",
        "                layer_blocks[-1].append(bn(channels, **kwargs))\n",
        "            activation_blocks[-1].append(Nonlinearity(inplace=True))\n",
        "            in_channels = channels\n",
        "        poolings.append(nn.MaxPool2d(kernel_size=2, stride=2))\n",
        "    return layer_blocks, activation_blocks, poolings\n",
        "\n",
        "class VGGBase(nn.Module):\n",
        "    def __init__(self, num_classes, depth=16, batch_norm=False):\n",
        "        super(VGGBase, self).__init__()\n",
        "        layer_blocks, activation_blocks, poolings = make_layers(config[depth], batch_norm)\n",
        "        self.layer_blocks = layer_blocks\n",
        "        self.activation_blocks = activation_blocks\n",
        "        self.poolings = poolings\n",
        "\n",
        "        self.classifier = nn.Sequential(\n",
        "            nn.Dropout(p=DROPOUT_PROB),\n",
        "            nn.Linear(512, 513),\n",
        "            Nonlinearity(inplace=True),\n",
        "            nn.Dropout(p=DROPOUT_PROB),\n",
        "            nn.Linear(513, 514),\n",
        "            Nonlinearity(inplace=True),\n",
        "            nn.Linear(514, num_classes),\n",
        "        )\n",
        "\n",
        "        for m in self.modules():\n",
        "            if isinstance(m, nn.Conv2d):\n",
        "                n = m.kernel_size[0] * m.kernel_size[1] * m.out_channels\n",
        "                m.weight.data.normal_(0, math.sqrt(2. / n))\n",
        "                m.bias.data.zero_()\n",
        "\n",
        "    def forward(self, x):\n",
        "        for layers, activations, pooling in zip(self.layer_blocks, self.activation_blocks,\n",
        "                                                self.poolings):\n",
        "            for layer, activation in zip(layers, activations):\n",
        "                x = layer(x)\n",
        "                x = activation(x)\n",
        "            x = pooling(x)\n",
        "        x = x.view(x.size(0), -1)\n",
        "        x = self.classifier(x)\n",
        "        return x\n",
        "\n",
        "VGGBase(num_classes=10, depth=16, batch_norm=False);"
      ],
      "execution_count": null,
      "outputs": []
    },
    {
      "cell_type": "markdown",
      "metadata": {
        "id": "NpHmUOqyCEXi"
      },
      "source": [
        "## Timing tests"
      ]
    },
    {
      "cell_type": "code",
      "metadata": {
        "id": "Z2Q9kyyACD8F",
        "colab": {
          "base_uri": "https://localhost:8080/"
        },
        "outputId": "0d89a7cc-ccb3-4475-ce31-09c5190f7b45"
      },
      "source": [
        "def new_model():\n",
        "  model = None\n",
        "  if architecture == \"ALEXNET\":\n",
        "    model = torchvision.models.alexnet(num_classes=10).to(DEVICE)\n",
        "    return model\n",
        "  else:\n",
        "    # model = torchvision.models.vgg19(num_classes=10, init_weights=True).to(DEVICE)\n",
        "    model = VGGBase(num_classes=10, depth=16, batch_norm=False).to(DEVICE)\n",
        "    return model\n",
        "\n",
        "model = new_model()\n",
        "x = sample_loader(train_loader, 5)\n",
        "print(model(x))\n",
        "\n",
        "torch.autograd.set_detect_anomaly(True)\n",
        "\n",
        "t0 = time.time()\n",
        "model.train()\n",
        "model(x)\n",
        "t1 = time.time()\n",
        "model.train()\n",
        "model(x).sum().backward()\n",
        "t2 = time.time()\n",
        "print(t1-t0, t2-t1)"
      ],
      "execution_count": null,
      "outputs": [
        {
          "output_type": "stream",
          "text": [
            "tensor([[-0.6970, -0.8308, -0.1197,  0.6774,  0.9251, -0.5817, -0.4519, -0.0798,\n",
            "         -0.1254,  0.0082],\n",
            "        [-0.5738, -1.3904, -0.0795,  0.7063,  1.4924, -0.6672, -0.4227, -0.4048,\n",
            "          0.0498, -0.0287],\n",
            "        [-0.8445, -1.1013,  0.0061,  0.6581,  1.4424, -0.7201, -0.3603, -0.1992,\n",
            "         -0.0254,  0.0642],\n",
            "        [-0.3861, -0.5445,  0.0092,  0.5160,  0.7854, -0.3774, -0.4700, -0.1882,\n",
            "         -0.0198,  0.2068],\n",
            "        [-0.8695, -1.3404, -0.1985,  1.0008,  1.4824, -0.6239, -0.7236, -0.3206,\n",
            "         -0.1788,  0.1319]], device='cuda:0', grad_fn=<AddmmBackward>)\n",
            "0.04085278511047363 0.06316518783569336\n"
          ],
          "name": "stdout"
        }
      ]
    },
    {
      "cell_type": "markdown",
      "metadata": {
        "id": "prbOlSUVsPCy"
      },
      "source": [
        "## Set up and run"
      ]
    },
    {
      "cell_type": "code",
      "metadata": {
        "id": "vXPk3m5rcf05",
        "colab": {
          "base_uri": "https://localhost:8080/",
          "height": 432
        },
        "outputId": "67456ae3-973e-4980-c994-b7fdead2ce11"
      },
      "source": [
        "def leaky_relu(x):\n",
        "  return(torch.relu(x) - .5*torch.relu(-x))\n",
        "\n",
        "def run_tests(n_trials=3, n_epochs=15, print_every=10**7):\n",
        "  global model\n",
        "  trajectories = []\n",
        "  for i in range(n_trials):\n",
        "    # torch.manual_seed(RANDOM_SEED + i)\n",
        "    model = new_model()\n",
        "    optimizer = torch.optim.SGD(model.parameters(), lr=.05, momentum=.9)\n",
        "    # optimizer = torch.optim.Adam(model.parameters(), lr=10*LEARNING_RATE)\n",
        "    criterion = nn.CrossEntropyLoss()\n",
        "    model, optimizer, traj = training_loop(model, criterion, optimizer, train_loader, test_loader, n_epochs, DEVICE, print_every=print_every)\n",
        "    # final_train_acc = losses[0][-1]\n",
        "    # final_test_acc = losses[2][-1]\n",
        "    # final_accs.append([final_train_acc, final_test_acc])\n",
        "    trajectories.append(traj)\n",
        "  return torch.tensor(trajectories)\n",
        "\n",
        "# # ADDITIVE\n",
        "# print(\"ADDITIVE\")\n",
        "# F.linear = old_linear_def\n",
        "# F.conv2d = old_conv_def\n",
        "# additive_results = run_tests(n_trials=1, n_epochs=150, print_every=1)\n",
        "# print(additive_results)\n",
        "\n",
        "# MULTIPLICATIVE\n",
        "print(\"\\n\\nMULTIPLICATIVE\")\n",
        "F.linear = mult_linear\n",
        "F.conv2d = mult_conv2d\n",
        "multiplicative_results = run_tests(n_trials=1, n_epochs=50, print_every=1)\n",
        "print(multiplicative_results)"
      ],
      "execution_count": null,
      "outputs": [
        {
          "output_type": "stream",
          "text": [
            "\n",
            "\n",
            "MULTIPLICATIVE\n",
            "zero found in mult_conv2d\n"
          ],
          "name": "stdout"
        },
        {
          "output_type": "error",
          "ename": "TypeError",
          "evalue": "ignored",
          "traceback": [
            "\u001b[0;31m---------------------------------------------------------------------------\u001b[0m",
            "\u001b[0;31mTypeError\u001b[0m                                 Traceback (most recent call last)",
            "\u001b[0;32m<ipython-input-30-7b44e9a1aac3>\u001b[0m in \u001b[0;36m<module>\u001b[0;34m()\u001b[0m\n\u001b[1;32m     29\u001b[0m \u001b[0mF\u001b[0m\u001b[0;34m.\u001b[0m\u001b[0mlinear\u001b[0m \u001b[0;34m=\u001b[0m \u001b[0mmult_linear\u001b[0m\u001b[0;34m\u001b[0m\u001b[0;34m\u001b[0m\u001b[0m\n\u001b[1;32m     30\u001b[0m \u001b[0mF\u001b[0m\u001b[0;34m.\u001b[0m\u001b[0mconv2d\u001b[0m \u001b[0;34m=\u001b[0m \u001b[0mmult_conv2d\u001b[0m\u001b[0;34m\u001b[0m\u001b[0;34m\u001b[0m\u001b[0m\n\u001b[0;32m---> 31\u001b[0;31m \u001b[0mmultiplicative_results\u001b[0m \u001b[0;34m=\u001b[0m \u001b[0mrun_tests\u001b[0m\u001b[0;34m(\u001b[0m\u001b[0mn_trials\u001b[0m\u001b[0;34m=\u001b[0m\u001b[0;36m1\u001b[0m\u001b[0;34m,\u001b[0m \u001b[0mn_epochs\u001b[0m\u001b[0;34m=\u001b[0m\u001b[0;36m50\u001b[0m\u001b[0;34m,\u001b[0m \u001b[0mprint_every\u001b[0m\u001b[0;34m=\u001b[0m\u001b[0;36m1\u001b[0m\u001b[0;34m)\u001b[0m\u001b[0;34m\u001b[0m\u001b[0;34m\u001b[0m\u001b[0m\n\u001b[0m\u001b[1;32m     32\u001b[0m \u001b[0mprint\u001b[0m\u001b[0;34m(\u001b[0m\u001b[0mmultiplicative_results\u001b[0m\u001b[0;34m)\u001b[0m\u001b[0;34m\u001b[0m\u001b[0;34m\u001b[0m\u001b[0m\n",
            "\u001b[0;32m<ipython-input-30-7b44e9a1aac3>\u001b[0m in \u001b[0;36mrun_tests\u001b[0;34m(n_trials, n_epochs, print_every)\u001b[0m\n\u001b[1;32m     11\u001b[0m     \u001b[0;31m# optimizer = torch.optim.Adam(model.parameters(), lr=10*LEARNING_RATE)\u001b[0m\u001b[0;34m\u001b[0m\u001b[0;34m\u001b[0m\u001b[0;34m\u001b[0m\u001b[0m\n\u001b[1;32m     12\u001b[0m     \u001b[0mcriterion\u001b[0m \u001b[0;34m=\u001b[0m \u001b[0mnn\u001b[0m\u001b[0;34m.\u001b[0m\u001b[0mCrossEntropyLoss\u001b[0m\u001b[0;34m(\u001b[0m\u001b[0;34m)\u001b[0m\u001b[0;34m\u001b[0m\u001b[0;34m\u001b[0m\u001b[0m\n\u001b[0;32m---> 13\u001b[0;31m     \u001b[0mmodel\u001b[0m\u001b[0;34m,\u001b[0m \u001b[0moptimizer\u001b[0m\u001b[0;34m,\u001b[0m \u001b[0mtraj\u001b[0m \u001b[0;34m=\u001b[0m \u001b[0mtraining_loop\u001b[0m\u001b[0;34m(\u001b[0m\u001b[0mmodel\u001b[0m\u001b[0;34m,\u001b[0m \u001b[0mcriterion\u001b[0m\u001b[0;34m,\u001b[0m \u001b[0moptimizer\u001b[0m\u001b[0;34m,\u001b[0m \u001b[0mtrain_loader\u001b[0m\u001b[0;34m,\u001b[0m \u001b[0mtest_loader\u001b[0m\u001b[0;34m,\u001b[0m \u001b[0mn_epochs\u001b[0m\u001b[0;34m,\u001b[0m \u001b[0mDEVICE\u001b[0m\u001b[0;34m,\u001b[0m \u001b[0mprint_every\u001b[0m\u001b[0;34m=\u001b[0m\u001b[0mprint_every\u001b[0m\u001b[0;34m)\u001b[0m\u001b[0;34m\u001b[0m\u001b[0;34m\u001b[0m\u001b[0m\n\u001b[0m\u001b[1;32m     14\u001b[0m     \u001b[0;31m# final_train_acc = losses[0][-1]\u001b[0m\u001b[0;34m\u001b[0m\u001b[0;34m\u001b[0m\u001b[0;34m\u001b[0m\u001b[0m\n\u001b[1;32m     15\u001b[0m     \u001b[0;31m# final_test_acc = losses[2][-1]\u001b[0m\u001b[0;34m\u001b[0m\u001b[0;34m\u001b[0m\u001b[0;34m\u001b[0m\u001b[0m\n",
            "\u001b[0;32m<ipython-input-6-e07cf50ae9b4>\u001b[0m in \u001b[0;36mtraining_loop\u001b[0;34m(model, criterion, optimizer, train_loader, test_loader, epochs, device, print_every)\u001b[0m\n\u001b[1;32m     68\u001b[0m \u001b[0;34m\u001b[0m\u001b[0m\n\u001b[1;32m     69\u001b[0m       \u001b[0;31m# trainin'\u001b[0m\u001b[0;34m\u001b[0m\u001b[0;34m\u001b[0m\u001b[0;34m\u001b[0m\u001b[0m\n\u001b[0;32m---> 70\u001b[0;31m       \u001b[0mmodel\u001b[0m\u001b[0;34m,\u001b[0m \u001b[0moptimizer\u001b[0m\u001b[0;34m,\u001b[0m \u001b[0mtrain_loss\u001b[0m\u001b[0;34m,\u001b[0m \u001b[0mtrain_acc\u001b[0m \u001b[0;34m=\u001b[0m \u001b[0mtrain_epoch\u001b[0m\u001b[0;34m(\u001b[0m\u001b[0mtrain_loader\u001b[0m\u001b[0;34m,\u001b[0m \u001b[0mmodel\u001b[0m\u001b[0;34m,\u001b[0m \u001b[0mcriterion\u001b[0m\u001b[0;34m,\u001b[0m \u001b[0moptimizer\u001b[0m\u001b[0;34m,\u001b[0m \u001b[0mdevice\u001b[0m\u001b[0;34m)\u001b[0m\u001b[0;34m\u001b[0m\u001b[0;34m\u001b[0m\u001b[0m\n\u001b[0m\u001b[1;32m     71\u001b[0m       \u001b[0mtrain_losses\u001b[0m\u001b[0;34m.\u001b[0m\u001b[0mappend\u001b[0m\u001b[0;34m(\u001b[0m\u001b[0mtrain_loss\u001b[0m\u001b[0;34m)\u001b[0m\u001b[0;34m\u001b[0m\u001b[0;34m\u001b[0m\u001b[0m\n\u001b[1;32m     72\u001b[0m       \u001b[0mtrain_accs\u001b[0m\u001b[0;34m.\u001b[0m\u001b[0mappend\u001b[0m\u001b[0;34m(\u001b[0m\u001b[0mtrain_acc\u001b[0m\u001b[0;34m)\u001b[0m\u001b[0;34m\u001b[0m\u001b[0;34m\u001b[0m\u001b[0m\n",
            "\u001b[0;32m<ipython-input-6-e07cf50ae9b4>\u001b[0m in \u001b[0;36mtrain_epoch\u001b[0;34m(train_loader, model, criterion, optimizer, device)\u001b[0m\n\u001b[1;32m     11\u001b[0m       \u001b[0my_true\u001b[0m \u001b[0;34m=\u001b[0m \u001b[0my_true\u001b[0m\u001b[0;34m.\u001b[0m\u001b[0mto\u001b[0m\u001b[0;34m(\u001b[0m\u001b[0mdevice\u001b[0m\u001b[0;34m)\u001b[0m\u001b[0;34m\u001b[0m\u001b[0;34m\u001b[0m\u001b[0m\n\u001b[1;32m     12\u001b[0m \u001b[0;34m\u001b[0m\u001b[0m\n\u001b[0;32m---> 13\u001b[0;31m       \u001b[0my_hat\u001b[0m \u001b[0;34m=\u001b[0m \u001b[0mmodel\u001b[0m\u001b[0;34m(\u001b[0m\u001b[0mX\u001b[0m\u001b[0;34m)\u001b[0m\u001b[0;34m\u001b[0m\u001b[0;34m\u001b[0m\u001b[0m\n\u001b[0m\u001b[1;32m     14\u001b[0m \u001b[0;34m\u001b[0m\u001b[0m\n\u001b[1;32m     15\u001b[0m       \u001b[0mloss\u001b[0m \u001b[0;34m=\u001b[0m \u001b[0mcriterion\u001b[0m\u001b[0;34m(\u001b[0m\u001b[0my_hat\u001b[0m\u001b[0;34m,\u001b[0m \u001b[0my_true\u001b[0m\u001b[0;34m)\u001b[0m\u001b[0;34m\u001b[0m\u001b[0;34m\u001b[0m\u001b[0m\n",
            "\u001b[0;32m/usr/local/lib/python3.6/dist-packages/torch/nn/modules/module.py\u001b[0m in \u001b[0;36m_call_impl\u001b[0;34m(self, *input, **kwargs)\u001b[0m\n\u001b[1;32m    725\u001b[0m             \u001b[0mresult\u001b[0m \u001b[0;34m=\u001b[0m \u001b[0mself\u001b[0m\u001b[0;34m.\u001b[0m\u001b[0m_slow_forward\u001b[0m\u001b[0;34m(\u001b[0m\u001b[0;34m*\u001b[0m\u001b[0minput\u001b[0m\u001b[0;34m,\u001b[0m \u001b[0;34m**\u001b[0m\u001b[0mkwargs\u001b[0m\u001b[0;34m)\u001b[0m\u001b[0;34m\u001b[0m\u001b[0;34m\u001b[0m\u001b[0m\n\u001b[1;32m    726\u001b[0m         \u001b[0;32melse\u001b[0m\u001b[0;34m:\u001b[0m\u001b[0;34m\u001b[0m\u001b[0;34m\u001b[0m\u001b[0m\n\u001b[0;32m--> 727\u001b[0;31m             \u001b[0mresult\u001b[0m \u001b[0;34m=\u001b[0m \u001b[0mself\u001b[0m\u001b[0;34m.\u001b[0m\u001b[0mforward\u001b[0m\u001b[0;34m(\u001b[0m\u001b[0;34m*\u001b[0m\u001b[0minput\u001b[0m\u001b[0;34m,\u001b[0m \u001b[0;34m**\u001b[0m\u001b[0mkwargs\u001b[0m\u001b[0;34m)\u001b[0m\u001b[0;34m\u001b[0m\u001b[0;34m\u001b[0m\u001b[0m\n\u001b[0m\u001b[1;32m    728\u001b[0m         for hook in itertools.chain(\n\u001b[1;32m    729\u001b[0m                 \u001b[0m_global_forward_hooks\u001b[0m\u001b[0;34m.\u001b[0m\u001b[0mvalues\u001b[0m\u001b[0;34m(\u001b[0m\u001b[0;34m)\u001b[0m\u001b[0;34m,\u001b[0m\u001b[0;34m\u001b[0m\u001b[0;34m\u001b[0m\u001b[0m\n",
            "\u001b[0;32m<ipython-input-26-3629857c9fff>\u001b[0m in \u001b[0;36mforward\u001b[0;34m(self, x)\u001b[0m\n\u001b[1;32m     79\u001b[0m                                                 self.poolings):\n\u001b[1;32m     80\u001b[0m             \u001b[0;32mfor\u001b[0m \u001b[0mlayer\u001b[0m\u001b[0;34m,\u001b[0m \u001b[0mactivation\u001b[0m \u001b[0;32min\u001b[0m \u001b[0mzip\u001b[0m\u001b[0;34m(\u001b[0m\u001b[0mlayers\u001b[0m\u001b[0;34m,\u001b[0m \u001b[0mactivations\u001b[0m\u001b[0;34m)\u001b[0m\u001b[0;34m:\u001b[0m\u001b[0;34m\u001b[0m\u001b[0;34m\u001b[0m\u001b[0m\n\u001b[0;32m---> 81\u001b[0;31m                 \u001b[0mx\u001b[0m \u001b[0;34m=\u001b[0m \u001b[0mlayer\u001b[0m\u001b[0;34m(\u001b[0m\u001b[0mx\u001b[0m\u001b[0;34m)\u001b[0m\u001b[0;34m\u001b[0m\u001b[0;34m\u001b[0m\u001b[0m\n\u001b[0m\u001b[1;32m     82\u001b[0m                 \u001b[0mx\u001b[0m \u001b[0;34m=\u001b[0m \u001b[0mactivation\u001b[0m\u001b[0;34m(\u001b[0m\u001b[0mx\u001b[0m\u001b[0;34m)\u001b[0m\u001b[0;34m\u001b[0m\u001b[0;34m\u001b[0m\u001b[0m\n\u001b[1;32m     83\u001b[0m             \u001b[0mx\u001b[0m \u001b[0;34m=\u001b[0m \u001b[0mpooling\u001b[0m\u001b[0;34m(\u001b[0m\u001b[0mx\u001b[0m\u001b[0;34m)\u001b[0m\u001b[0;34m\u001b[0m\u001b[0;34m\u001b[0m\u001b[0m\n",
            "\u001b[0;32m/usr/local/lib/python3.6/dist-packages/torch/nn/modules/module.py\u001b[0m in \u001b[0;36m_call_impl\u001b[0;34m(self, *input, **kwargs)\u001b[0m\n\u001b[1;32m    725\u001b[0m             \u001b[0mresult\u001b[0m \u001b[0;34m=\u001b[0m \u001b[0mself\u001b[0m\u001b[0;34m.\u001b[0m\u001b[0m_slow_forward\u001b[0m\u001b[0;34m(\u001b[0m\u001b[0;34m*\u001b[0m\u001b[0minput\u001b[0m\u001b[0;34m,\u001b[0m \u001b[0;34m**\u001b[0m\u001b[0mkwargs\u001b[0m\u001b[0;34m)\u001b[0m\u001b[0;34m\u001b[0m\u001b[0;34m\u001b[0m\u001b[0m\n\u001b[1;32m    726\u001b[0m         \u001b[0;32melse\u001b[0m\u001b[0;34m:\u001b[0m\u001b[0;34m\u001b[0m\u001b[0;34m\u001b[0m\u001b[0m\n\u001b[0;32m--> 727\u001b[0;31m             \u001b[0mresult\u001b[0m \u001b[0;34m=\u001b[0m \u001b[0mself\u001b[0m\u001b[0;34m.\u001b[0m\u001b[0mforward\u001b[0m\u001b[0;34m(\u001b[0m\u001b[0;34m*\u001b[0m\u001b[0minput\u001b[0m\u001b[0;34m,\u001b[0m \u001b[0;34m**\u001b[0m\u001b[0mkwargs\u001b[0m\u001b[0;34m)\u001b[0m\u001b[0;34m\u001b[0m\u001b[0;34m\u001b[0m\u001b[0m\n\u001b[0m\u001b[1;32m    728\u001b[0m         for hook in itertools.chain(\n\u001b[1;32m    729\u001b[0m                 \u001b[0m_global_forward_hooks\u001b[0m\u001b[0;34m.\u001b[0m\u001b[0mvalues\u001b[0m\u001b[0;34m(\u001b[0m\u001b[0;34m)\u001b[0m\u001b[0;34m,\u001b[0m\u001b[0;34m\u001b[0m\u001b[0;34m\u001b[0m\u001b[0m\n",
            "\u001b[0;32m/usr/local/lib/python3.6/dist-packages/torch/nn/modules/conv.py\u001b[0m in \u001b[0;36mforward\u001b[0;34m(self, input)\u001b[0m\n\u001b[1;32m    421\u001b[0m \u001b[0;34m\u001b[0m\u001b[0m\n\u001b[1;32m    422\u001b[0m     \u001b[0;32mdef\u001b[0m \u001b[0mforward\u001b[0m\u001b[0;34m(\u001b[0m\u001b[0mself\u001b[0m\u001b[0;34m,\u001b[0m \u001b[0minput\u001b[0m\u001b[0;34m:\u001b[0m \u001b[0mTensor\u001b[0m\u001b[0;34m)\u001b[0m \u001b[0;34m->\u001b[0m \u001b[0mTensor\u001b[0m\u001b[0;34m:\u001b[0m\u001b[0;34m\u001b[0m\u001b[0;34m\u001b[0m\u001b[0m\n\u001b[0;32m--> 423\u001b[0;31m         \u001b[0;32mreturn\u001b[0m \u001b[0mself\u001b[0m\u001b[0;34m.\u001b[0m\u001b[0m_conv_forward\u001b[0m\u001b[0;34m(\u001b[0m\u001b[0minput\u001b[0m\u001b[0;34m,\u001b[0m \u001b[0mself\u001b[0m\u001b[0;34m.\u001b[0m\u001b[0mweight\u001b[0m\u001b[0;34m)\u001b[0m\u001b[0;34m\u001b[0m\u001b[0;34m\u001b[0m\u001b[0m\n\u001b[0m\u001b[1;32m    424\u001b[0m \u001b[0;34m\u001b[0m\u001b[0m\n\u001b[1;32m    425\u001b[0m \u001b[0;32mclass\u001b[0m \u001b[0mConv3d\u001b[0m\u001b[0;34m(\u001b[0m\u001b[0m_ConvNd\u001b[0m\u001b[0;34m)\u001b[0m\u001b[0;34m:\u001b[0m\u001b[0;34m\u001b[0m\u001b[0;34m\u001b[0m\u001b[0m\n",
            "\u001b[0;32m/usr/local/lib/python3.6/dist-packages/torch/nn/modules/conv.py\u001b[0m in \u001b[0;36m_conv_forward\u001b[0;34m(self, input, weight)\u001b[0m\n\u001b[1;32m    418\u001b[0m                             _pair(0), self.dilation, self.groups)\n\u001b[1;32m    419\u001b[0m         return F.conv2d(input, weight, self.bias, self.stride,\n\u001b[0;32m--> 420\u001b[0;31m                         self.padding, self.dilation, self.groups)\n\u001b[0m\u001b[1;32m    421\u001b[0m \u001b[0;34m\u001b[0m\u001b[0m\n\u001b[1;32m    422\u001b[0m     \u001b[0;32mdef\u001b[0m \u001b[0mforward\u001b[0m\u001b[0;34m(\u001b[0m\u001b[0mself\u001b[0m\u001b[0;34m,\u001b[0m \u001b[0minput\u001b[0m\u001b[0;34m:\u001b[0m \u001b[0mTensor\u001b[0m\u001b[0;34m)\u001b[0m \u001b[0;34m->\u001b[0m \u001b[0mTensor\u001b[0m\u001b[0;34m:\u001b[0m\u001b[0;34m\u001b[0m\u001b[0;34m\u001b[0m\u001b[0m\n",
            "\u001b[0;32m<ipython-input-29-c27cc3a95939>\u001b[0m in \u001b[0;36mmult_conv2d\u001b[0;34m(input, weights, bias, stride, padding, dilation, groups)\u001b[0m\n\u001b[1;32m     65\u001b[0m     \u001b[0;31m# print(input)\u001b[0m\u001b[0;34m\u001b[0m\u001b[0;34m\u001b[0m\u001b[0;34m\u001b[0m\u001b[0m\n\u001b[1;32m     66\u001b[0m     \u001b[0;31m# print(output)\u001b[0m\u001b[0;34m\u001b[0m\u001b[0;34m\u001b[0m\u001b[0;34m\u001b[0m\u001b[0m\n\u001b[0;32m---> 67\u001b[0;31m     \u001b[0mq\u001b[0m \u001b[0;34m=\u001b[0m \u001b[0;36m1\u001b[0m \u001b[0;34m+\u001b[0m \u001b[0;34m'1'\u001b[0m\u001b[0;34m\u001b[0m\u001b[0;34m\u001b[0m\u001b[0m\n\u001b[0m\u001b[1;32m     68\u001b[0m \u001b[0;34m\u001b[0m\u001b[0m\n\u001b[1;32m     69\u001b[0m   \u001b[0mcache_mult\u001b[0m\u001b[0;34m[\u001b[0m\u001b[0;36m2\u001b[0m\u001b[0;34m]\u001b[0m \u001b[0;34m=\u001b[0m \u001b[0moutput\u001b[0m\u001b[0;34m\u001b[0m\u001b[0;34m\u001b[0m\u001b[0m\n",
            "\u001b[0;31mTypeError\u001b[0m: unsupported operand type(s) for +: 'int' and 'str'"
          ]
        }
      ]
    },
    {
      "cell_type": "code",
      "metadata": {
        "id": "WXUuLvWFyxns"
      },
      "source": [
        "output = old_linear_def(cache_lin[0], cache_lin[1][0], cache_lin[1][1])\n",
        "# (cache_lin[0].isinf()).sum()\n",
        "cache_mult[0].isinf().sum()\n",
        "\n",
        "# optimizer = torch.optim.Adam(model.parameters(), lr=10*LEARNING_RATE)\n",
        "# criterion = nn.CrossEntropyLoss()\n",
        "# model, optimizer, traj = training_loop(model, criterion, optimizer, train_loader, test_loader, 3, DEVICE, print_every=1)"
      ],
      "execution_count": null,
      "outputs": []
    },
    {
      "cell_type": "code",
      "metadata": {
        "id": "lQU9U21CroZ3"
      },
      "source": [
        "line_a_tr,= plt.plot(additive_results[0][0], color=(0,0,1))\n",
        "line_a_te,= plt.plot(additive_results[0][2], color=(.5,.5,1))\n",
        "\n",
        "line_m_tr,= plt.plot(multiplicative_results[0][0], color=(1,0,0))\n",
        "line_m_te,= plt.plot(multiplicative_results[0][2], color=(1,.5,.5))\n",
        "# line_a_te.set_dashes([1,1])"
      ],
      "execution_count": null,
      "outputs": []
    },
    {
      "cell_type": "code",
      "metadata": {
        "id": "LJJ-mHoWWwEw"
      },
      "source": [
        "print(cache[0].size())\n",
        "print(cache[1].size())\n",
        "print(cache[2].size())\n",
        "print((cache[0] <= 0).sum())\n",
        "print((cache[2] <= 0).sum())\n",
        "print(torch.log(cache[0]).isinf().sum())\n",
        "old_linear_def(torch.log(cache[0]), cache[1]).isnan().sum()"
      ],
      "execution_count": null,
      "outputs": []
    },
    {
      "cell_type": "code",
      "metadata": {
        "id": "VYTwvipmp15Z"
      },
      "source": [
        "q = torch.log(cache[0])\n",
        "for i in range(len(q)):\n",
        "  for j in range(len(q[i])):\n",
        "    if q[i][j].isinf():\n",
        "      print(i,j)"
      ],
      "execution_count": null,
      "outputs": []
    },
    {
      "cell_type": "code",
      "metadata": {
        "id": "d_fhWX8CGvA-"
      },
      "source": [
        "xs = sample_loader(train_loader, n_samples=128)\n",
        "model(xs).isnan().sum()"
      ],
      "execution_count": null,
      "outputs": []
    },
    {
      "cell_type": "code",
      "metadata": {
        "id": "T2x8xiipIHtC"
      },
      "source": [
        "cache[0][cache[0].isinf()]"
      ],
      "execution_count": null,
      "outputs": []
    },
    {
      "cell_type": "code",
      "metadata": {
        "id": "eedgBuCWN_bU"
      },
      "source": [
        "x = None\n",
        "for sample in train_loader:\n",
        "  if model(sample[0].cuda()).isinf().sum() > 0:\n",
        "    x = sample\n",
        "    print('found a nan')\n",
        "    break"
      ],
      "execution_count": null,
      "outputs": []
    },
    {
      "cell_type": "code",
      "metadata": {
        "id": "zYY0ohOtsip4"
      },
      "source": [
        "input = torch.log(cache_mult[0])\n",
        "output = torch.exp(old_conv_def(cache_mult[0], *cache_mult[1])) + 0\n",
        "output.isinf().sum()"
      ],
      "execution_count": null,
      "outputs": []
    },
    {
      "cell_type": "code",
      "metadata": {
        "id": "myxgakNCyt3I"
      },
      "source": [
        "cache_mult[0].max"
      ],
      "execution_count": null,
      "outputs": []
    },
    {
      "cell_type": "code",
      "metadata": {
        "id": "gejPDIOwA_dt"
      },
      "source": [
        ""
      ],
      "execution_count": null,
      "outputs": []
    }
  ]
}