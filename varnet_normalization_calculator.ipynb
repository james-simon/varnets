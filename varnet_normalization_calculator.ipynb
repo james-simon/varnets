{
  "nbformat": 4,
  "nbformat_minor": 0,
  "metadata": {
    "colab": {
      "name": "varnet_normalization_calculator",
      "provenance": [],
      "authorship_tag": "ABX9TyNBuwafVvISJ8YQRx1xTD7W",
      "include_colab_link": true
    },
    "kernelspec": {
      "name": "python3",
      "display_name": "Python 3"
    }
  },
  "cells": [
    {
      "cell_type": "markdown",
      "metadata": {
        "id": "view-in-github",
        "colab_type": "text"
      },
      "source": [
        "<a href=\"https://colab.research.google.com/github/james-simon/varnets/blob/master/varnet_normalization_calculator.ipynb\" target=\"_parent\"><img src=\"https://colab.research.google.com/assets/colab-badge.svg\" alt=\"Open In Colab\"/></a>"
      ]
    },
    {
      "cell_type": "code",
      "metadata": {
        "id": "CpMdQ6ZsNWCg"
      },
      "source": [
        "import numpy as np\n",
        "import scipy.integrate as integrate\n",
        "import scipy.special as special"
      ],
      "execution_count": null,
      "outputs": []
    },
    {
      "cell_type": "code",
      "metadata": {
        "colab": {
          "base_uri": "https://localhost:8080/"
        },
        "id": "1uFSuwfXNdK5",
        "outputId": "3ca17229-2f0d-4a47-8c10-f923ddaaeac1"
      },
      "source": [
        "# W*RELU(X)\n",
        "f = lambda w, x: w*np.max([0, x])\n",
        "mean = integrate.dblquad(lambda w, x: (1/(2*np.pi))*np.exp(-(w**2 + x**2)/2)*f(w, x), -np.inf, np.inf, lambda x: -np.inf, lambda x: np.inf)[0]\n",
        "var = integrate.dblquad(lambda w, x: (1/(2*np.pi))*np.exp(-(w**2 + x**2)/2)*f(w, x)**2, -np.inf, np.inf, lambda x: -np.inf, lambda x: np.inf)[0]\n",
        "\n",
        "print(\"mean: \", mean)\n",
        "print(\"var: \", var)\n",
        "print(\"normalization constant: \", 1/np.sqrt(var))"
      ],
      "execution_count": null,
      "outputs": [
        {
          "output_type": "stream",
          "text": [
            "mean:  0.0\n",
            "var:  0.5000000000000009\n",
            "normalization constant:  1.4142135623730938\n"
          ],
          "name": "stdout"
        }
      ]
    },
    {
      "cell_type": "code",
      "metadata": {
        "colab": {
          "base_uri": "https://localhost:8080/"
        },
        "id": "OxzuivR6N2VZ",
        "outputId": "0ff55f7d-b96f-4245-9977-eeb21d534dcb"
      },
      "source": [
        "# W*TANH(X)\n",
        "f = lambda w, x: w*np.tanh(x)\n",
        "mean = integrate.dblquad(lambda w, x: (1/(2*np.pi))*np.exp(-(w**2 + x**2)/2)*f(w, x), -np.inf, np.inf, lambda x: -np.inf, lambda x: np.inf)[0]\n",
        "var = integrate.dblquad(lambda w, x: (1/(2*np.pi))*np.exp(-(w**2 + x**2)/2)*f(w, x)**2, -np.inf, np.inf, lambda x: -np.inf, lambda x: np.inf)[0]\n",
        "\n",
        "print(\"mean: \", mean)\n",
        "print(\"var: \", var)\n",
        "print(\"normalization constant: \", 1/np.sqrt(var))"
      ],
      "execution_count": null,
      "outputs": [
        {
          "output_type": "stream",
          "text": [
            "mean:  0.0\n",
            "var:  0.3942944903978096\n",
            "normalization constant:  1.5925374197228952\n"
          ],
          "name": "stdout"
        }
      ]
    },
    {
      "cell_type": "code",
      "metadata": {
        "colab": {
          "base_uri": "https://localhost:8080/"
        },
        "id": "ehqacsCnPyLf",
        "outputId": "6766bdc6-5b2d-4b2a-a63d-be2d739ec326"
      },
      "source": [
        "# W*TANH(RELU(X)) - (1/sqrtN)SIN(sqrtN*W)RELU(-X)\n",
        "f = lambda w, x: w*np.tanh(np.max([0, x])) - np.sin(w)*np.min([0, x])\n",
        "mean = integrate.dblquad(lambda w, x: (1/(2*np.pi))*np.exp(-(w**2 + x**2)/2)*f(w, x), -np.inf, np.inf, lambda x: -np.inf, lambda x: np.inf)[0]\n",
        "var = integrate.dblquad(lambda w, x: (1/(2*np.pi))*np.exp(-(w**2 + x**2)/2)*f(w, x)**2, -np.inf, np.inf, lambda x: -np.inf, lambda x: np.inf)[0]\n",
        "\n",
        "print(\"mean: \", mean)\n",
        "print(\"var: \", var)\n",
        "print(\"normalization constant: \", 1/np.sqrt(var))"
      ],
      "execution_count": null,
      "outputs": [
        {
          "output_type": "stream",
          "text": [
            "mean:  0.0\n",
            "var:  1.0047551599844429\n",
            "normalization constant:  0.9976308658764403\n"
          ],
          "name": "stdout"
        }
      ]
    },
    {
      "cell_type": "code",
      "metadata": {
        "id": "NL9cPXMHR1Me"
      },
      "source": [
        ""
      ],
      "execution_count": null,
      "outputs": []
    }
  ]
}